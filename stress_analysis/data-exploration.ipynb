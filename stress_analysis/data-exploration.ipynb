# Import necessary libraries
import pandas as pd
import seaborn as sns
import matplotlib.pyplot as plt

# Load the dataset
file_path = 'mental_health_analysis.csv'  # Update this path as needed
df = pd.read_csv(file_path)

# Data Overview
df.head()  # Display first few rows
df.info()  # Check data types and null values
df.isnull().sum()  # Check for missing values

# Data Cleaning (if necessary)
df_cleaned = df.dropna()  # Drop rows with missing values
df_cleaned = df_cleaned.drop_duplicates()  # Drop duplicates

# Descriptive Statistics
df_cleaned.describe()  # Summary stats for numeric columns

# Univariate Visualizations
plt.figure(figsize=(8,5))
sns.histplot(df_cleaned['Survey_Stress_Score'], kde=True)
plt.title('Distribution of Survey Stress Scores')
plt.show()

# Bivariate Visualizations
plt.figure(figsize=(8,5))
sns.scatterplot(x='Social_Media_Hours', y='Survey_Stress_Score', data=df_cleaned)
plt.title('Social Media Hours vs. Stress Score')
plt.show()

# Correlation Matrix
corr_matrix = df_cleaned.corr()
plt.figure(figsize=(10,8))
sns.heatmap(corr_matrix, annot=True, cmap='coolwarm')
plt.title('Correlation Heatmap')
plt.show()

# Summary Observations
# - "There seems to be a weak positive correlation between Social Media Hours and Stress Scores."
# - "The distribution of Survey Stress Scores is slightly right-skewed."

